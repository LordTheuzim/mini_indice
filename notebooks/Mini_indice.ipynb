{
 "cells": [
  {
   "cell_type": "markdown",
   "id": "6b3de8b4",
   "metadata": {},
   "source": [
    "# Mercado de Mini Índice\n",
    "\n",
    "O dataset é composto pela data da operação(Date), a hora(Time), o quanto o mercado abriu (Open), quanto fechou(Close), maior valor chegado no instante(High), menor valor chegado na operação (Low), quantidade de operações realizadas (Vol)."
   ]
  },
  {
   "cell_type": "code",
   "execution_count": 1,
   "id": "6f8a500c",
   "metadata": {},
   "outputs": [],
   "source": [
    "import numpy as np\n",
    "import pandas as pd\n",
    "import matplotlib.pyplot as plt"
   ]
  },
  {
   "cell_type": "markdown",
   "id": "c0d6d928",
   "metadata": {},
   "source": [
    "## Operações\n",
    "\n",
    "Add coluna se subiu ou desceu"
   ]
  },
  {
   "cell_type": "markdown",
   "id": "ddb5354e",
   "metadata": {},
   "source": [
    "## Perguntas Relevantes\n",
    "\n",
    "Quantas operações são feitas por dia?\n",
    "\n",
    "Sobe mais que desce?\n",
    "\n",
    "Horarios que mais sobem?\n"
   ]
  },
  {
   "cell_type": "markdown",
   "id": "570205fc",
   "metadata": {},
   "source": [
    "## Implementação do modelo LSTM\n",
    "\n",
    "Implementar modelo LSTM para predição de subidas.\n",
    "\n",
    "Problema: De acordo com as 10 últimas entradas, o próximo valor irá subir ou descer?\n"
   ]
  }
 ],
 "metadata": {
  "interpreter": {
   "hash": "916dbcbb3f70747c44a77c7bcd40155683ae19c65e1c03b4aa3499c5328201f1"
  },
  "kernelspec": {
   "display_name": "Python 3.8.10 64-bit",
   "language": "python",
   "name": "python3"
  },
  "language_info": {
   "codemirror_mode": {
    "name": "ipython",
    "version": 3
   },
   "file_extension": ".py",
   "mimetype": "text/x-python",
   "name": "python",
   "nbconvert_exporter": "python",
   "pygments_lexer": "ipython3",
   "version": "3.8.10"
  }
 },
 "nbformat": 4,
 "nbformat_minor": 5
}
